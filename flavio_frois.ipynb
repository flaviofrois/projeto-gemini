{
  "nbformat": 4,
  "nbformat_minor": 0,
  "metadata": {
    "colab": {
      "provenance": [],
      "authorship_tag": "ABX9TyMBExiBNZwyP9XAPAfDa10h",
      "include_colab_link": true
    },
    "kernelspec": {
      "name": "python3",
      "display_name": "Python 3"
    },
    "language_info": {
      "name": "python"
    }
  },
  "cells": [
    {
      "cell_type": "markdown",
      "metadata": {
        "id": "view-in-github",
        "colab_type": "text"
      },
      "source": [
        "<a href=\"https://colab.research.google.com/github/flaviofrois/projeto-gemini/blob/main/flavio_frois.ipynb\" target=\"_parent\"><img src=\"https://colab.research.google.com/assets/colab-badge.svg\" alt=\"Open In Colab\"/></a>"
      ]
    },
    {
      "cell_type": "markdown",
      "source": [
        "# instalação do goolge generative"
      ],
      "metadata": {
        "id": "08uRwJfT16C8"
      }
    },
    {
      "cell_type": "code",
      "source": [
        "# Atualizar a biblioteca Python no em seu ambiente.\n",
        "!pip install -q -U google-generativeai"
      ],
      "metadata": {
        "id": "_bJ4-K2T1_Kb"
      },
      "execution_count": 1,
      "outputs": []
    },
    {
      "cell_type": "code",
      "source": [
        "# Importar a biblioteca google\n",
        "import google.generativeai as genai\n",
        "# Importar a biblioteca google e Python\n",
        "import textwrap\n",
        "# Importar as funções display e Markdow\n",
        "from IPython.display import display, Markdown\n",
        "\n",
        "# Importar o módulo e do pacote\n",
        "from google.colab import userdata\n",
        "import os\n",
        "# Armazenar uma chave de API\n",
        "\n",
        "os.environ['API_KEY'] = 'Secret_Key'\n",
        "api_key = os.environ.get('API_KEY')\n",
        "# Recuperar a chave de API\n",
        "genai.configure(api_key=api_key)\n"
      ],
      "metadata": {
        "id": "4Nhwgzk82Jpk"
      },
      "execution_count": 36,
      "outputs": []
    },
    {
      "cell_type": "code",
      "source": [
        "# Configurações\n",
        "generation_config = {\n",
        "    \"candidate_count\":1,\n",
        "  #  \"temperature\": 0.06\n",
        "}\n",
        "safety_settings = {\n",
        "    \"HARASSMENT\": \"BLOCK_ALL\",\n",
        "    \"HATE\": \"FLAG_FOR_REVIEW\",\n",
        "    \"SEXUAL\": \"BLOCK_ALL\",\n",
        "    \"DANGEROUS\": \"FILTER_KEYWORDS\" }"
      ],
      "metadata": {
        "id": "aZYQSJYU2kvN"
      },
      "execution_count": 3,
      "outputs": []
    },
    {
      "cell_type": "code",
      "source": [
        "# Lista dos Modelos\n",
        "for m in genai.list_models():\n",
        "  if 'generateContent' in m.supported_generation_methods:\n",
        "    print(m.name)"
      ],
      "metadata": {
        "colab": {
          "base_uri": "https://localhost:8080/",
          "height": 138
        },
        "id": "FT5MRFwo3mhb",
        "outputId": "50410bb5-26f4-4a13-ced3-9081b484d4bf"
      },
      "execution_count": 4,
      "outputs": [
        {
          "output_type": "stream",
          "name": "stdout",
          "text": [
            "models/gemini-1.0-pro\n",
            "models/gemini-1.0-pro-001\n",
            "models/gemini-1.0-pro-latest\n",
            "models/gemini-1.0-pro-vision-latest\n",
            "models/gemini-1.5-pro-latest\n",
            "models/gemini-pro\n",
            "models/gemini-pro-vision\n"
          ]
        }
      ]
    },
    {
      "cell_type": "code",
      "source": [
        "# Definição das funções de formatação do modelo\n",
        "model = genai.GenerativeModel(\n",
        "        model_name=\"gemini-1.0-pro\",\n",
        "        generation_config=generation_config)"
      ],
      "metadata": {
        "id": "MsIhLzhl2rjm"
      },
      "execution_count": 5,
      "outputs": []
    },
    {
      "cell_type": "code",
      "source": [
        "# Definição das funções de formatação\n",
        "def to_markdown (text) :\n",
        "  text = text.replace('*', ' *')\n",
        "  return Markdown(textwrap.indent(text, '> ', predicate= lambda _: True))\n",
        "\n",
        "def format_response(response):\n",
        "    markdown_text = f\"## {response.text}\\n\\n\"\n",
        "    return Markdown(markdown_text)"
      ],
      "metadata": {
        "id": "E1c82IAL2xOA"
      },
      "execution_count": 6,
      "outputs": []
    },
    {
      "cell_type": "code",
      "source": [
        "# Iniciando um chat com o modelo\n",
        "chat = model.start_chat(history=[])"
      ],
      "metadata": {
        "id": "dTdiII8225E_"
      },
      "execution_count": 7,
      "outputs": []
    },
    {
      "cell_type": "code",
      "source": [
        "# Loop do conversa\n",
        "prompt = input('''*** Olá, sou seu atendente virtual.\n",
        "  Descreva o que você gostaria de pesquisar??\n",
        "  Também posso te auxiliar com pesquisas esportivas, compras, viagens e outros conteúdos,\n",
        "  basta digitar no campo de texto o conteúdo necessários e acionar a tecla ENTER ***\n",
        "\n",
        "''')\n",
        "while prompt != \"fim\":\n",
        "  response = chat.send_message(prompt)\n",
        "  print(\"::---------------------------------------::\",\"\\n\")\n",
        "  print(\"Resposta :\", response.text, \"\\n\")\n",
        "  prompt = input('''Deseja mais informações?\n",
        "  Se sim, digite o que gostaria de pesquisar, caso contratio e informa a palavra <fim>\n",
        "   ''')\n",
        " # print(\"Resposta :\", response.text, \"\\n\")\n",
        "  print(\"<<---- FIM DE PESQUISA ---->>\",\"\\n\")"
      ],
      "metadata": {
        "colab": {
          "base_uri": "https://localhost:8080/",
          "height": 1000
        },
        "id": "uP6D9tU829Lv",
        "outputId": "8a86c4a8-182c-475f-f585-d08e5fc3addc"
      },
      "execution_count": 10,
      "outputs": [
        {
          "output_type": "stream",
          "name": "stdout",
          "text": [
            "Olá, sou seu atendente virtual.\n",
            "  Descreva o que você gostaria de pesquisar??\n",
            "  Também posso te auxiliar com pesquisas esportivas, compras, viagens e outros conteúdos,\n",
            "  basta digitar no campo de texto o conteúdo necessários e acionar a tecla ENTER\n",
            "\n",
            "carro\n",
            "::---------------------------------------:: \n",
            "\n",
            "Resposta : **Definição:**\n",
            "\n",
            "Um carro é um veículo motorizado de quatro rodas projetado principalmente para o transporte de pessoas e mercadorias em estradas.\n",
            "\n",
            "**Características:**\n",
            "\n",
            "* **Motor:** Fonte de energia que move o carro. Pode ser a gasolina, diesel, elétrico ou híbrido.\n",
            "* **Câmbio:** Transmite a potência do motor para as rodas. Pode ser manual ou automático.\n",
            "* **Tração:** Sistema que transmite a potência do motor para as rodas, podendo ser dianteira, traseira ou integral.\n",
            "* **Suspensão:** Sistema que absorve impactos e mantém o contato das rodas com o solo.\n",
            "* **Freios:** Sistema que reduz a velocidade ou para o carro.\n",
            "* **Rodas e pneus:** Suportam o peso do carro e fornecem tração.\n",
            "* **Interior:** Espaço para o motorista e passageiros, incluindo assentos, painel, ar-condicionado e sistema de entretenimento.\n",
            "* **Exterior:** Estrutura e aparência do carro, incluindo pintura, faróis, grade e para-choques.\n",
            "\n",
            "**Tipos:**\n",
            "\n",
            "Existem vários tipos de carros, incluindo:\n",
            "\n",
            "* Sedan\n",
            "* Hatchback\n",
            "* SUV (Sport Utility Vehicle)\n",
            "* Crossover\n",
            "* Coupe\n",
            "* Cabrio\n",
            "* Minivan\n",
            "* Perua\n",
            "* Van\n",
            "* Caminhoneta\n",
            "\n",
            "**Sistemas de segurança:**\n",
            "\n",
            "Os carros modernos são equipados com vários sistemas de segurança para proteger os ocupantes e outros usuários da estrada. Esses sistemas incluem:\n",
            "\n",
            "* Airbags\n",
            "* Freios ABS\n",
            "* Controle de tração\n",
            "* Controle de estabilidade\n",
            "* Assistente de faixa\n",
            "* Monitor de ponto cego\n",
            "* Câmera de ré\n",
            "* Sensores de estacionamento\n",
            "\n",
            "**Tendências do mercado automotivo:**\n",
            "\n",
            "O mercado automotivo está passando por várias tendências, incluindo:\n",
            "\n",
            "* Veículos elétricos\n",
            "* Veículos autônomos\n",
            "* Conectividade e internet das coisas (IoT)\n",
            "* Compartilhamento de carros\n",
            "* Mobilidade como serviço (MaaS) \n",
            "\n",
            "Deseja mais informações?\n",
            "  Se sim, digite o que gostaria de pesquisar, caso contratio e informa a palavra <fim>\n",
            "   fim\n",
            "::---------------------------------------:: \n",
            "\n"
          ]
        }
      ]
    }
  ]
}