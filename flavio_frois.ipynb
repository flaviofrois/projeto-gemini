{
  "nbformat": 4,
  "nbformat_minor": 0,
  "metadata": {
    "colab": {
      "provenance": [],
      "authorship_tag": "ABX9TyOtJPvsg1PBbg7mspkLWHCF",
      "include_colab_link": true
    },
    "kernelspec": {
      "name": "python3",
      "display_name": "Python 3"
    },
    "language_info": {
      "name": "python"
    }
  },
  "cells": [
    {
      "cell_type": "markdown",
      "metadata": {
        "id": "view-in-github",
        "colab_type": "text"
      },
      "source": [
        "<a href=\"https://colab.research.google.com/github/flaviofrois/projeto-gemini/blob/main/flavio_frois.ipynb\" target=\"_parent\"><img src=\"https://colab.research.google.com/assets/colab-badge.svg\" alt=\"Open In Colab\"/></a>"
      ]
    },
    {
      "cell_type": "code",
      "execution_count": null,
      "metadata": {
        "id": "J1JXOs0aCc7N"
      },
      "outputs": [],
      "source": [
        "In []:\n",
        "# instalação do goolge generative\n",
        "!pip install -q -U google-generativeai\n",
        "\n",
        "import google.generativeai as genai\n",
        "import textwrap\n",
        "from IPython.display import display\n",
        "from google.colab import userdata\n",
        "\n",
        "In []:\n",
        "\n",
        "# Ocultando api_key\n",
        "api_key  = userdata.get('API_KEY')\n",
        "genai.configure(api_key=api_key)\n",
        "\n",
        "In []:\n",
        "\n",
        "# Criação das configurações padrões\n",
        "\n",
        "generation_config = {\n",
        "    \"candidate_count\":1,\n",
        "    \"temperature\": .06\n",
        "}\n",
        "\n",
        "safety_settings = {\n",
        "    \"HARASSMENT\": \"BLOCK_ALL\",\n",
        "    \"HATE\": \"FLAG_FOR_REVIEW\",\n",
        "    \"SEXUAL\": \"BLOCK_ALL\",\n",
        "    \"DANGEROUS\": \"FILTER_KEYWORDS\"\n",
        "}\n",
        "\n",
        "In [] :\n",
        "# Definição das funções de formatação do modelo\n",
        "model = genai.GenerativeModel(model_name=\"gemini-1.0-pro\",\n",
        "                                generation_config=generation_config,\n",
        "                                safety_settings=safety_settings\n",
        "                             )\n",
        "\n",
        "# Definição das funções de formatação de formatação\n",
        "\n",
        "def to_markdown (text) :\n",
        "  text = text.replace('*', ' *')\n",
        "  return Markdown (textwrap.indent(text, '> ', predicate= lambda _: True))\n",
        "\n",
        "def format_response(response):\n",
        "    markdown_text = f\"## {response.text}\\n\\n\"\n",
        "    return Markdown(markdown_text)\n",
        "\n",
        "In []:\n",
        "# iniciando um chat com o modelo\n",
        "chat = model.start_chat(history=[])\n",
        "\n",
        "# Loop do conversa\n",
        "prompt = input('''Ola esportista. sou seu atendente virtual.\n",
        "  Me diga o que você gostaria de pesquisar de humanas?\n",
        "  Posso te auxiliar com dias de parte anatomina, musculos do corpo humano e muito mais,\n",
        "  basta digitar no campo e precisionar ENTER.\n",
        "''')\n",
        "while prompt != \"fim\":\n",
        "  response = chat.send_message(prompt)\n",
        "  print(\"::--------------------------------------------------------------------------------------::,\"\\n\")\n",
        "  prompt = input('''Deseja mais informações?\n",
        "  Se sim, digite o que gostaria de pesquisar, caso contratio e informa a palavra <Nao>\n",
        "   ''')\n",
        "\n"
      ]
    }
  ]
}